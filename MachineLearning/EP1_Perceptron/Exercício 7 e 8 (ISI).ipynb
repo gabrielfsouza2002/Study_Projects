{
 "cells": [
  {
   "cell_type": "code",
   "execution_count": 92,
   "id": "7f8f9b86",
   "metadata": {},
   "outputs": [],
   "source": [
    "from matplotlib import image\n",
    "import numpy as np"
   ]
  },
  {
   "cell_type": "code",
   "execution_count": 93,
   "id": "10b57fc2",
   "metadata": {},
   "outputs": [],
   "source": [
    "def binarizar(matrix):\n",
    "    limiar = 128\n",
    "    matriz = np.empty_like(matrix)\n",
    "    for i in range(matriz.shape[0]):\n",
    "        for j in range(matriz.shape[1]):\n",
    "            if (matriz[i][j] >= limiar):\n",
    "                matriz[i][j] = 255\n",
    "            else:\n",
    "                matriz[i][j] = 0\n",
    "    return matriz"
   ]
  },
  {
   "cell_type": "code",
   "execution_count": 94,
   "id": "4c1df01b",
   "metadata": {},
   "outputs": [],
   "source": [
    "def contorno(matrix):\n",
    "    matriz = np.empty_like(matrix)\n",
    "    for i in range(1, matrix.shape[0]-1):\n",
    "        for j in range(1, matrix.shape[1]-1):\n",
    "            if(matrix[i][j] == 0 and (matrix[i+1][j] == 255 or matrix[i-1][j] == 255 or matrix[i][j+1]== 255 or matrix[i][j-1] == 255) and not(matrix[i+1][j] == 255 and matrix[i-1][j] == 255 and matrix[i][j+1]== 255 and matrix[i][j-1] == 255)):\n",
    "                matriz[i][j] = 0\n",
    "            else:\n",
    "                matriz[i][j] = 255\n",
    "    return matriz    "
   ]
  },
  {
   "cell_type": "code",
   "execution_count": 95,
   "id": "28636884",
   "metadata": {},
   "outputs": [],
   "source": [
    "def imprime(matriz):\n",
    "    with open ('imagem_com_contorno.pgm','w') as file:\n",
    "        file.write('P2\\n')\n",
    "        file.write(str(matriz.shape[1]))\n",
    "        file.write(' ')\n",
    "        file.write(str(matriz.shape[0]))\n",
    "        file.write('\\n255')\n",
    "        \n",
    "        for i in range(matriz.shape[0]):\n",
    "            file.write('\\n')\n",
    "            for j in range(matriz.shape[1]):\n",
    "                file.write(str(int(matriz[i][j])))\n",
    "                file.write(' ')\n",
    "    file.close()"
   ]
  },
  {
   "cell_type": "code",
   "execution_count": 96,
   "id": "10f873c2",
   "metadata": {},
   "outputs": [],
   "source": [
    "imagem_entrada = open('cell.pgm')\n",
    "imagem_entrada.readline()\n",
    "line = imagem_entrada.readline()\n",
    "line = line.split()\n",
    "imagem_entrada.readline()\n",
    "linhas = int(line[1])\n",
    "colunas = int(line[0])\n",
    "imagem = []\n",
    "imagem_bordas = [[]]\n",
    "linhas = linhas\n",
    "for i in range(linhas):\n",
    "    line = imagem_entrada.readline()\n",
    "    line = line.split()\n",
    "    for j in range(len(line)):\n",
    "        line[j] = int(line[j])\n",
    "    imagem.append(line)\n",
    "\n",
    "matrix = np.zeros((linhas+2, colunas+2))\n",
    "for i in range(linhas):\n",
    "    for j in range(colunas):\n",
    "        matrix[i+1][j+1] = imagem[i][j]\n",
    "imagem_entrada.close()        \n",
    "        \n",
    "matriz = binarizar(matrix)\n",
    "matriz = contorno(matriz)\n",
    "imprime(matriz)"
   ]
  },
  {
   "cell_type": "markdown",
   "id": "1b7416e0",
   "metadata": {},
   "source": [
    "ISI -> Será possivel aprender os don't Cares por meio do split de intervalos:\n",
    "1. I ←− {[∅, W]} ;\n",
    "2. For each [C, D] ∈ Iψ\u00020\u0003 do {\n",
    "3. IP ←− {[A, B] ∈ I : [A, B] ∩ [C, D] = ∅} ;\n",
    "4. Itmp ←− {[A, B] ∈ I : [A, B] ∩ [C, D] \t= ∅} ;\n",
    "5. INew ←− ∅;\n",
    "6. For each [A, B] ∈ Itmp do {\n",
    "7. Isplit ←− M([A, B] \\ [C, D]) ;\n",
    "8. For each [A\u0004\n",
    ", B\u0004\n",
    "] ∈ Isplit {\n",
    "9. if there is no [E,F] ∈ IP such that [A\u0004\n",
    ", B\u0004\n",
    "] ⊆ [E,F]\n",
    "9\u0004\n",
    ". and if [A\u0004\n",
    ", B\u0004\n",
    "] covers at least one element of ψ\u000b1\f\n",
    "10. then INew ←− INew ∪ {[A\u0004\n",
    ", B\u0004\n",
    "]} ;\n",
    "11. }\n",
    "12. }\n",
    "13. I ←− IP ∪ INew ;\n",
    "14. }\n",
    "15. I = min cover(ψ\u000b1\f,I) ;\n",
    "16. Return I."
   ]
  }
 ],
 "metadata": {
  "kernelspec": {
   "display_name": "Python 3.9.13 64-bit (microsoft store)",
   "language": "python",
   "name": "python3"
  },
  "language_info": {
   "codemirror_mode": {
    "name": "ipython",
    "version": 3
   },
   "file_extension": ".py",
   "mimetype": "text/x-python",
   "name": "python",
   "nbconvert_exporter": "python",
   "pygments_lexer": "ipython3",
   "version": "3.9.13"
  },
  "vscode": {
   "interpreter": {
    "hash": "86ef74f6eff19f6a1a2b0340f0386727a3b5c7c6812a90cfc9f143ad5137f6e7"
   }
  }
 },
 "nbformat": 4,
 "nbformat_minor": 5
}
