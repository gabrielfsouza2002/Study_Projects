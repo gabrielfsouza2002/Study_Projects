{
  "nbformat": 4,
  "nbformat_minor": 0,
  "metadata": {
    "colab": {
      "provenance": []
    },
    "kernelspec": {
      "name": "python3",
      "display_name": "Python 3"
    },
    "language_info": {
      "name": "python"
    }
  },
  "cells": [
    {
      "cell_type": "code",
      "source": [
        "#imports:\n",
        "import gym\n",
        "import numpy as np\n",
        "import math\n",
        "import matplotlib.pyplot as plt"
      ],
      "metadata": {
        "id": "tmgUC0JTlMqZ"
      },
      "execution_count": 173,
      "outputs": []
    },
    {
      "cell_type": "markdown",
      "source": [
        "Abaixo estão dispostos os parâmetros que nós variamos para a execução do EP. Cada uma dessas variáveis, quando alterada, vai fornecer um novo valor e um novo gráfico, assim, podemos comparar o desempenho dos dois algoritmos em diferentes casos."
      ],
      "metadata": {
        "id": "Eph8GJmAovVy"
      }
    },
    {
      "cell_type": "markdown",
      "source": [
        "**Q-LERANING**"
      ],
      "metadata": {
        "id": "W-DYztxZ1wHv"
      }
    },
    {
      "cell_type": "code",
      "source": [
        "# definicao do ambiente\n",
        "amb = gym.make(\"CartPole-v1\")\n",
        "\n",
        "#Parâmetros principais (hiperparâmetros) do código que podem ser ajutados de modo a obter diferentes resultados\n",
        "EPISODIOS = 20000\n",
        "QUADRO_EPISODIOS = 500\n",
        "DESCONTO = 0.8\n",
        "EPSILON = 0.1\n",
        "LEARNING_RATE = 0.25"
      ],
      "metadata": {
        "id": "qggVJt8N0aa1"
      },
      "execution_count": 181,
      "outputs": []
    },
    {
      "cell_type": "markdown",
      "source": [
        "Aqui nós definimos quais são os valores que dão a definição do teste:\n",
        "0 = a posição que o carro pode ocupar,\n",
        "1 = a velocidade máxima que o carro pode atingir,\n",
        "2 = o ângulo máximo que o bastão pode se inclinar,\n",
        "3 = a velocidade angular máxima que o bastão pode atingir.\n",
        "\n",
        "Esses parâmetros são fixos, definidos no enunciado do EP."
      ],
      "metadata": {
        "id": "hZKhdMNx5vSn"
      }
    },
    {
      "cell_type": "code",
      "source": [
        "#definicao dos parametros do teste\n",
        "amb.observation_space.high[0] = 4.8\n",
        "amb.observation_space.high[1] = 10e38\n",
        "amb.observation_space.high[2] = 0.418\n",
        "amb.observation_space.high[3] = 10e38\n",
        "\n",
        "amb.observation_space.low[0] = -4.8\n",
        "amb.observation_space.low[1] = -10e38\n",
        "amb.observation_space.low[2] = -0.418\n",
        "amb.observation_space.low[3] = -10e38"
      ],
      "metadata": {
        "id": "iCRjmDFmlpBY"
      },
      "execution_count": 182,
      "outputs": []
    },
    {
      "cell_type": "markdown",
      "source": [
        "Aqui nós definimos a matriz Q"
      ],
      "metadata": {
        "id": "M362LUB-5_rf"
      }
    },
    {
      "cell_type": "code",
      "source": [
        "# Configuração da Tabela Q:\n",
        "# Define o tamanho da Tabela Q com base nos espaços de estados e ações do ambiente.\n",
        "angulo_theta = amb.observation_space.high[2]  # Valor máximo de theta\n",
        "velocidade_angular_theta = math.radians(50)  # Valor máximo de theta_dot em radianos\n",
        "num_estadosD_theta = 24  # Número de estados discretos para theta\n",
        "num_estadosD_VA_theta = 50  # Número de estados discretos para velocidade angular\n",
        "TABELA_Q = np.random.randn(num_estadosD_theta, num_estadosD_VA_theta, amb.action_space.n)  # Inicializa a Tabela Q com valores aleatórios"
      ],
      "metadata": {
        "id": "L0sdH_cCJc9y"
      },
      "execution_count": 183,
      "outputs": []
    },
    {
      "cell_type": "markdown",
      "source": [
        "Aqui são armazenadas as recompensas que mostra, para cada conjunto de episódios, qual foi a média de recompensas, a recompensa mínima e a recompensa máxima."
      ],
      "metadata": {
        "id": "iPhQaU-U6C3Z"
      }
    },
    {
      "cell_type": "code",
      "source": [
        "# Configuração de estatísticas:\n",
        "# Inicializa listas para acompanhar recompensas de episódios e estatísticas\n",
        "ep_recompensa = []\n",
        "ep_recompensa_tabela = {'Episodio': [], 'media': [], 'min': [], 'max': []}"
      ],
      "metadata": {
        "id": "muhVgul1N0uZ"
      },
      "execution_count": 184,
      "outputs": []
    },
    {
      "cell_type": "markdown",
      "source": [
        "aqui nós discretizamos cada estado, afinal, como são tratados como double, é necessário discretizar cada um dos seus valores para podermos analizar."
      ],
      "metadata": {
        "id": "DB4sr93l6Fpq"
      }
    },
    {
      "cell_type": "code",
      "source": [
        "# Função para discretizar o estado:\n",
        "# Mapeia estados contínuos para estados discretos com base em divisões definidas\n",
        "def discretizacao_estado(state):\n",
        "    # state[2] -> theta\n",
        "    # state[3] -> theta_dot\n",
        "    estado_discreto = np.array([0, 0])  # Inicializa um array discreto\n",
        "\n",
        "    # Divide o espaço de theta em estados discretos\n",
        "    largura_angulo_theta = (angulo_theta - (-angulo_theta)) / num_estadosD_theta\n",
        "    estado_discreto[0] = (state[2] - (-angulo_theta)) // largura_angulo_theta\n",
        "    estado_discreto[0] = min(num_estadosD_theta - 1, max(0, estado_discreto[0]))\n",
        "\n",
        "    # Divide o espaço de theta_dot em estados discretos\n",
        "    largura_VA_theta = (velocidade_angular_theta - (-velocidade_angular_theta)) / num_estadosD_VA_theta\n",
        "    estado_discreto[1] = (state[3] - (-velocidade_angular_theta)) // largura_VA_theta\n",
        "    estado_discreto[1] = min(num_estadosD_VA_theta - 1, max(0, estado_discreto[1]))\n",
        "\n",
        "    return tuple(estado_discreto.astype(np.int))"
      ],
      "metadata": {
        "id": "E2zYjUjYkXJn"
      },
      "execution_count": 185,
      "outputs": []
    },
    {
      "cell_type": "code",
      "source": [
        "# Loop do Q-Learning:\n",
        "# Executa Q-Learning por um número de episódios especificado\n",
        "for episodio in range(EPISODIOS):\n",
        "    recompensa_episodio = 0\n",
        "    estado_discreto_atual = discretizacao_estado(amb.reset())  # Inicializa o estado discreto\n",
        "    flag = False\n",
        "    i = 0\n",
        "\n",
        "    if episodio % QUADRO_EPISODIOS == 0:\n",
        "        status_renderizacao = True\n",
        "    else:\n",
        "        status_renderizacao = False\n",
        "\n",
        "    while not flag:\n",
        "\n",
        "\n",
        "\n",
        "        if np.random.random() > EPSILON: # Condição para Explotaçaõ\n",
        "            action = np.argmax(TABELA_Q[estado_discreto_atual])  # Escolhe a ação com base na Tabela Q\n",
        "        else: # Condição para exploração\n",
        "            action = np.random.randint(0, amb.action_space.n)  # Escolhe uma ação aleatória\n",
        "\n",
        "        novo_estado, recompensa, flag, _ = amb.step(action)  # Executa a ação e obtém o próximo estado e recompensa\n",
        "        new_estado_discreto = discretizacao_estado(novo_estado)  # Discretiza o novo estado\n",
        "\n",
        "        if status_renderizacao:\n",
        "            amb.render()  # Renderiza o ambiente se status_renderizacao for True\n",
        "\n",
        "        if not flag:\n",
        "            valor_max_futuro = np.max(TABELA_Q[new_estado_discreto[0], new_estado_discreto[1]])\n",
        "            q_atual = TABELA_Q[estado_discreto_atual[0], estado_discreto_atual[1], action]\n",
        "            new_q = q_atual + LEARNING_RATE * (recompensa + DESCONTO * valor_max_futuro - q_atual)\n",
        "            TABELA_Q[estado_discreto_atual[0], estado_discreto_atual[1], action] = new_q  # Atualiza os valores da Tabela Q\n",
        "\n",
        "        if (abs(novo_estado[2]) > math.radians(12)) or (abs(novo_estado[0]) > 2.4) or (i > 500):\n",
        "          flag = True\n",
        "\n",
        "        i = i + 1\n",
        "        estado_discreto_atual = new_estado_discreto\n",
        "        recompensa_episodio += recompensa\n",
        "\n",
        "    ep_recompensa.append(recompensa_episodio)\n",
        "\n",
        "    if not episodio % QUADRO_EPISODIOS:\n",
        "        media_recompensa = sum(ep_recompensa[-QUADRO_EPISODIOS:]) / len(ep_recompensa[-QUADRO_EPISODIOS:])\n",
        "        ep_recompensa_tabela['Episodio'].append(episodio)\n",
        "        ep_recompensa_tabela['media'].append(media_recompensa)\n",
        "        ep_recompensa_tabela['min'].append(min(ep_recompensa[-QUADRO_EPISODIOS:]))\n",
        "        ep_recompensa_tabela['max'].append(max(ep_recompensa[-QUADRO_EPISODIOS:]))\n",
        "        print(f\"episodio:{episodio} media:{media_recompensa} min:{min(ep_recompensa[-QUADRO_EPISODIOS:])} max:{max(ep_recompensa[-QUADRO_EPISODIOS:])}\")\n",
        "\n",
        "amb.close()"
      ],
      "metadata": {
        "id": "idfI2yJXN07h"
      },
      "execution_count": null,
      "outputs": []
    },
    {
      "cell_type": "markdown",
      "source": [
        "**SARSA**\n"
      ],
      "metadata": {
        "id": "MCYLBqo910XZ"
      }
    },
    {
      "cell_type": "code",
      "source": [
        "# definicao do ambiente\n",
        "amb = gym.make(\"CartPole-v1\")\n",
        "\n",
        "# parametros a serem variados\n",
        "EPISODIOS = 10000\n",
        "DESCONTO = 0.95\n",
        "QUADRO_EPISODIOS = 500\n",
        "LEARNING_RATE = 0.65\n",
        "EPSILON = 0.2"
      ],
      "metadata": {
        "id": "akQY9QnNpHmc"
      },
      "execution_count": null,
      "outputs": []
    },
    {
      "cell_type": "markdown",
      "source": [
        "Aqui nós definimos quais são os valores que dão a definição do teste:\n",
        "0 = a posição que o carro pode ocupar,\n",
        "1 = a velocidade máxima que o carro pode atingir,\n",
        "2 = o ângulo máximo que o bastão pode se inclinar,\n",
        "3 = a velocidade angular máxima que o bastão pode atingir.\n",
        "\n",
        "Esses parâmetros são fixos, definidos no enunciado do EP."
      ],
      "metadata": {
        "id": "1uO0x0lQ7puX"
      }
    },
    {
      "cell_type": "code",
      "source": [
        "#definicao dos parametros do teste\n",
        "amb.observation_space.high[0] = 4.8\n",
        "amb.observation_space.high[1] = 10e38\n",
        "amb.observation_space.high[2] = 0.418\n",
        "amb.observation_space.high[3] = 10e38\n",
        "\n",
        "amb.observation_space.low[0] = -4.8\n",
        "amb.observation_space.low[1] = -10e38\n",
        "amb.observation_space.low[2] = -0.418\n",
        "amb.observation_space.low[3] = -10e3"
      ],
      "metadata": {
        "id": "4PamCCc71c0S"
      },
      "execution_count": null,
      "outputs": []
    },
    {
      "cell_type": "markdown",
      "source": [
        "Aqui nós definimos a matriz Q"
      ],
      "metadata": {
        "id": "0aafovon8FAh"
      }
    },
    {
      "cell_type": "code",
      "source": [
        "#definicao da matriz Q\n",
        "angulo_theta = amb.observation_space.high[2]\n",
        "velocidade_angular_theta = math.radians(50)\n",
        "num_estadosD_theta = 24\n",
        "num_estadosD_VA_theta = 50\n",
        "TABELA_Q = np.random.randn(num_estadosD_theta, num_estadosD_VA_theta, amb.action_space.n)"
      ],
      "metadata": {
        "id": "DOiT6gKA0stF"
      },
      "execution_count": null,
      "outputs": []
    },
    {
      "cell_type": "markdown",
      "source": [
        "Aqui são armazenadas as recompensas que mostra, para cada conjunto de episódios, qual foi a média de recompensas, a recompensa mínima e a recompensa máxima."
      ],
      "metadata": {
        "id": "P0qv3TpA8Icg"
      }
    },
    {
      "cell_type": "code",
      "source": [
        "recompensas = []\n",
        "recompensas_tabela = {'episodio': [], 'average': [], 'min': [], 'max': []}"
      ],
      "metadata": {
        "id": "XBdzaNx7e3yW"
      },
      "execution_count": null,
      "outputs": []
    },
    {
      "cell_type": "markdown",
      "source": [
        "aqui nós discretizamos cada estado, afinal, como são tratados como double, é necessário discretizar cada um dos seus valores para podermos analizar."
      ],
      "metadata": {
        "id": "9XyLbEVH8RNK"
      }
    },
    {
      "cell_type": "code",
      "source": [
        "def discretizacao_estado(state):\n",
        "\t#state[2] -> theta\n",
        "\t#state[3] -> theta_dot\n",
        "\testado_discreto = np.array([0,0])\t\t#Initialised discrete array\n",
        "\tlargura_angulo_theta =  ( angulo_theta - (-angulo_theta) ) / num_estadosD_theta\n",
        "\testado_discreto[0] = ( state[2] - (-angulo_theta) ) // largura_angulo_theta\n",
        "\testado_discreto[0] = min(num_estadosD_theta-1, max(0,estado_discreto[0]))\n",
        "\n",
        "\tlargura_VA_theta =  ( velocidade_angular_theta - (-velocidade_angular_theta) )/ num_estadosD_theta\n",
        "\testado_discreto[1] = ( state[3] - (-velocidade_angular_theta) ) // largura_VA_theta\n",
        "\testado_discreto[1] = min(num_estadosD_theta-1, max(0,estado_discreto[1]))\n",
        "\n",
        "\treturn tuple(estado_discreto.astype(int))"
      ],
      "metadata": {
        "id": "_ejqHdmAfXG1"
      },
      "execution_count": null,
      "outputs": []
    },
    {
      "cell_type": "markdown",
      "source": [
        "Aqui está a implementação do algotímo SARSA"
      ],
      "metadata": {
        "id": "b2jOIGw86NXf"
      }
    },
    {
      "cell_type": "code",
      "source": [
        "# Como o texto nos slides sugere, aqui seguimos aquele passo a passo:\n",
        "# primeiro fazemos o loop por episodio\n",
        "for episodio in range(EPISODIOS):\n",
        "\trecompensa_episodio = 0\n",
        "\tflag = False\n",
        "\n",
        "\tif episodio % QUADRO_EPISODIOS == 0:\n",
        "\t\tstatus_renderizacao = True\n",
        "\telse:\n",
        "\t\tstatus_renderizacao = False\n",
        "\n",
        "\t# inicializamos os estados\n",
        "\testado_discreto_atual = discretizacao_estado(amb.reset())\n",
        "\tif np.random.random() > EPSILON:\n",
        "\t\taction = np.argmax(TABELA_Q[estado_discreto_atual])\n",
        "\telse:\n",
        "\t\taction = np.random.randint(0, amb.action_space.n)\n",
        "\n",
        "\t# enquanto não tiver terminado (s != final) faz o loop entre cada passo do episódio\n",
        "\twhile not flag:\n",
        "\n",
        "\n",
        "\t\tnovo_estado, recompensa, flag, _ = amb.step(action)\n",
        "\t\tnew_estado_discreto = discretizacao_estado(novo_estado)\n",
        "\n",
        "\t# aqui selecionamos a nova acao\n",
        "\t\tif np.random.random() > EPSILON:\n",
        "\t\t\tnew_action = np.argmax(TABELA_Q[new_estado_discreto])\n",
        "\t\telse:\n",
        "\t\t\tnew_action = np.random.randint(0, amb.action_space.n)\n",
        "\n",
        "\t\tif status_renderizacao:\n",
        "\t\t\tamb.render()\n",
        "\n",
        "\t# atualiza os valores da matriz Q\n",
        "\t\tif not flag:\n",
        "\t\t\tq_atual = TABELA_Q[estado_discreto_atual+(action,)]\n",
        "\t\t\tvalor_max_futuro = TABELA_Q[new_estado_discreto+(new_action,)]\n",
        "\t\t\tnew_q = q_atual + LEARNING_RATE*(recompensa+DESCONTO*valor_max_futuro-q_atual)\n",
        "\t\t\tTABELA_Q[estado_discreto_atual+(action,)]=new_q\n",
        "\n",
        "\t\testado_discreto_atual = new_estado_discreto\n",
        "\t\taction = new_action\n",
        "\n",
        "\t\trecompensa_episodio += recompensa\n",
        "\n",
        "\trecompensas.append(recompensa_episodio)\n",
        "\n",
        "\t#atualiza a matriz com as recompensas\n",
        "\tif not episodio % QUADRO_EPISODIOS:\n",
        "\t\tmedia_recompensa = sum(recompensas[-QUADRO_EPISODIOS:])/len(recompensas[-QUADRO_EPISODIOS:])\n",
        "\t\trecompensas_tabela['episodio'].append(episodio)\n",
        "\t\trecompensas_tabela['average'].append(media_recompensa)\n",
        "\t\trecompensas_tabela['min'].append(min(recompensas[-QUADRO_EPISODIOS:]))\n",
        "\t\trecompensas_tabela['max'].append(max(recompensas[-QUADRO_EPISODIOS:]))\n",
        "\t\tprint(f\"episodio:{episodio} media:{media_recompensa} min:{min(recompensas[-QUADRO_EPISODIOS:])} max:{max(recompensas[-QUADRO_EPISODIOS:])}\")\n",
        "\n",
        "amb.close()"
      ],
      "metadata": {
        "id": "TZ2svyfd1nSE"
      },
      "execution_count": null,
      "outputs": []
    },
    {
      "cell_type": "code",
      "source": [
        "#após colhermos os dados, fazemos o plot do gráfico, demonstrando, em cada intervalo de episódios, qual foi a média do valor de recompensas obtidas, e vemos que há um padrão no momento em que essa média estabiliza.\n",
        "plt.plot(recompensas_tabela['episodio'], recompensas_tabela['average'], label=\"media\")\n",
        "plt.plot(recompensas_tabela['episodio'], recompensas_tabela['min'], label=\"min\")\n",
        "plt.plot(recompensas_tabela['episodio'], recompensas_tabela['max'], label=\"max\")\n",
        "plt.legend(loc=4) #bottom right\n",
        "plt.title('CartPole SARSA')\n",
        "plt.ylabel('Average recompensa/episodio')\n",
        "plt.xlabel('EPISODIOS')\n",
        "plt.show()"
      ],
      "metadata": {
        "colab": {
          "base_uri": "https://localhost:8080/",
          "height": 472
        },
        "id": "Jif7LlN2f18Y",
        "outputId": "ab35391e-dcd6-4814-b178-2d62f1bf3bda"
      },
      "execution_count": null,
      "outputs": [
        {
          "output_type": "display_data",
          "data": {
            "text/plain": [
              "<Figure size 640x480 with 1 Axes>"
            ],
            "image/png": "[encoded data removed]"
          },
          "metadata": {}
        }
      ]
    }
  ]
}