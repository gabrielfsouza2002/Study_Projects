{
  "nbformat": 4,
  "nbformat_minor": 0,
  "metadata": {
    "colab": {
      "provenance": []
    },
    "kernelspec": {
      "name": "python3",
      "display_name": "Python 3"
    },
    "language_info": {
      "name": "python"
    }
  },
  "cells": [
    {
      "cell_type": "markdown",
      "source": [
        "NOME: <font color='red'> \\<Gabriel Ferreira de Souza Araujo\\>\n",
        "\n",
        "NUSP: <font color='red'> \\<12718100\\>\n",
        "\n",
        "\n",
        "---\n",
        "\n",
        "\n"
      ],
      "metadata": {
        "id": "ssX31gWp2BJ9"
      }
    },
    {
      "cell_type": "markdown",
      "source": [
        "# *EP 1 - Pyperplan*\n",
        "\n",
        "Neste primeiro exercício programa vamos\n",
        "usar o planejador Pyplerplan (disponível em https://github.com/aibasel/pyperplan). O Pyperplan é um planejador STRIPS escrito em\n",
        "Python, projetado para ser usado como uma\n",
        "ferramenta de ensino ou de prototipagem.\n",
        "\n",
        "Você deve criar uma cópia deste arquivo, executar as células contendo exemplos de comandos para utilizar o Pyperplan, e então preencher e executar as células na seção intitulada \"Experimentos a serem Realizados\"."
      ],
      "metadata": {
        "id": "rNrq3GIAjrvW"
      }
    },
    {
      "cell_type": "markdown",
      "source": [
        "# Tarefa 1 - Instalação do Pyperplan\n",
        "\n",
        "Para obter e instalar o pyperplan, você pode seguir as instruções disponíveis no arquivo \"README\" do respositório do planejador (https://github.com/aibasel/pyperplan), ou simplesmente executar a célula a seguir.\n",
        "\n",
        "Se optar por executar a célula, basta baixar este notebook em um diretório **vazio** e rodá-lo (a execução do script abaixo remove todos os arquivos do diretório em que o notebook estiver), ou executá-lo diretamente no Google Colab."
      ],
      "metadata": {
        "id": "U0ag1WXGmZlC"
      }
    },
    {
      "cell_type": "code",
      "execution_count": 56,
      "metadata": {
        "id": "XaYBCa39dGJ0"
      },
      "outputs": [],
      "source": [
        "%%bash\n",
        "\n",
        "# remove os arquivos existentes do Colab\n",
        " rm -rf ./*\n",
        "\n",
        "# faz o download do repositório na pasta atual\n",
        "curl --silent -L https://github.com/aibasel/pyperplan/tarball/main | tar -xz\n",
        "\n",
        "files=(*)\n",
        "dir_name=\"${files[0]}\"\n",
        "\n",
        "mv $dir_name/* .\n",
        "rm -rf $dir_name\n",
        "\n",
        "# instala o repositório como um pacote do PIP\n",
        "pip --quiet install --editable ."
      ]
    },
    {
      "cell_type": "markdown",
      "source": [
        "# Tarefa 2 - Experimentos\n",
        "\n",
        "\n",
        "## Como rodar os experimentos\n",
        "\n",
        "Com o código localizado na sua máquina (ou rodando este notebook diretamente no Colab), é possível executar o Pyperplan passando um arquivo de descrição de domínio em STRIPS e outro de descrição da instância de um problema do domínio. Por exemplo:\n",
        "\n",
        "```pyperplan <DOMÍNIO> <PROBLEMA>```\n",
        "\n",
        "Os domínios disponíveis estão localizados na pasta \"benchmarks\" do projeto (ver https://github.com/aibasel/pyperplan/tree/main/benchmarks).\n",
        "\n",
        "\n",
        "Por padrão, o pyperplan executa uma busca em largura sem heurística. No entanto, o pyperplan possui algoritmos de busca com heurística. Na célula abaixo temos um exemplo de execução do planejador para o domínio TTP (no arquivo benchmarks/tpp/domain.pddl) com a instância 1 (arquivo benchmarks/tpp/task01.pddl) usando a heurística FF e o algoritmo de busca \"best-first\":\n"
      ],
      "metadata": {
        "id": "7LpQl73WnmsW"
      }
    },
    {
      "cell_type": "code",
      "source": [
        "%%bash\n",
        "pyperplan --heuristic hff --search bfs benchmarks/tpp/domain.pddl benchmarks/tpp/task01.pddl"
      ],
      "metadata": {
        "id": "e16-tvpcdWUz",
        "outputId": "07f0176a-c272-4940-c48b-fcbd97228a7e",
        "colab": {
          "base_uri": "https://localhost:8080/"
        }
      },
      "execution_count": 57,
      "outputs": [
        {
          "output_type": "stream",
          "name": "stdout",
          "text": [
            "2023-08-31 02:26:33,369 INFO     using search: breadth_first_search\n",
            "2023-08-31 02:26:33,369 INFO     using heuristic: None\n",
            "2023-08-31 02:26:33,369 INFO     Parsing Domain /content/benchmarks/tpp/domain.pddl\n",
            "2023-08-31 02:26:33,371 INFO     Parsing Problem /content/benchmarks/tpp/task01.pddl\n",
            "2023-08-31 02:26:33,371 INFO     7 Predicates parsed\n",
            "2023-08-31 02:26:33,371 INFO     4 Actions parsed\n",
            "2023-08-31 02:26:33,371 INFO     6 Objects parsed\n",
            "2023-08-31 02:26:33,371 INFO     0 Constants parsed\n",
            "2023-08-31 02:26:33,371 INFO     Grounding start: tpp\n",
            "2023-08-31 02:26:33,372 INFO     Relevance analysis removed 1 facts\n",
            "2023-08-31 02:26:33,372 INFO     Grounding end: tpp\n",
            "2023-08-31 02:26:33,372 INFO     10 Variables created\n",
            "2023-08-31 02:26:33,372 INFO     5 Operators created\n",
            "2023-08-31 02:26:33,372 INFO     Search start: tpp\n",
            "2023-08-31 02:26:33,372 INFO     Goal reached. Start extraction of solution.\n",
            "2023-08-31 02:26:33,372 INFO     7 Nodes expanded\n",
            "2023-08-31 02:26:33,372 INFO     Search end: tpp\n",
            "2023-08-31 02:26:33,372 INFO     Search time: 0.00019\n",
            "2023-08-31 02:26:33,373 INFO     Plan length: 5\n",
            "2023-08-31 02:26:33,373 INFO     validate could not be found on the PATH so the plan can not be validated.\n"
          ]
        }
      ]
    },
    {
      "cell_type": "markdown",
      "source": [
        "Caso o comando acima tenha sido executado com sucesso, você deverá ter observado algumas estatíscas do problema. Essas estatísticas incluem o comprimento do plano (Plan length), o tempo de busca (Search time) e outros dados relevantes. Logo abaixo, é fornecido um exemplo ilustrativo da saída que o planejador pode gerar:\n",
        "\n",
        "\n",
        "```\n",
        "...\n",
        "INFO     7 Predicates parsed\n",
        "INFO     4 Actions parsed\n",
        "INFO     6 Objects parsed\n",
        "INFO     0 Constants parsed\n",
        "INFO     Grounding start: tpp\n",
        "INFO     Relevance analysis removed 1 facts\n",
        "INFO     Grounding end: tpp\n",
        "INFO     10 Variables created\n",
        "INFO     5 Operators created\n",
        "INFO     Search start: tpp\n",
        "INFO     Goal reached. Start extraction of solution.\n",
        "INFO     7 Nodes expanded\n",
        "INFO     Search end: tpp\n",
        "INFO     Search time: 0.00016\n",
        "INFO     Plan length: 5\n",
        "INFO     validate could not be found on the PATH so the plan can not be validated.\n",
        "\n",
        "```\n",
        "\n",
        "Após a execução do planejador, um arquivo com a extensão **.soln** é gerado na mesma pasta do arquivo da instância do problema. Esse arquivo contém a solução encontrada pelo planejador, ou seja, o plano para resolver o problema em questão."
      ],
      "metadata": {
        "id": "LkdLn79SuRto"
      }
    },
    {
      "cell_type": "code",
      "source": [
        "%%bash\n",
        "echo \"Solução do problema 'task01' para o domínio 'tpp':\"\n",
        "echo \"\"\n",
        "cat benchmarks/tpp/task01.pddl.soln"
      ],
      "metadata": {
        "id": "HAaJCi7_wzSr",
        "outputId": "a38e2d4d-dde2-4bd4-dbc7-494eb9eb01d5",
        "colab": {
          "base_uri": "https://localhost:8080/"
        }
      },
      "execution_count": 58,
      "outputs": [
        {
          "output_type": "stream",
          "name": "stdout",
          "text": [
            "Solução do problema 'task01' para o domínio 'tpp':\n",
            "\n",
            "(drive truck1 depot1 market1)\n",
            "(buy truck1 goods1 market1 level0 level1 level0 level1)\n",
            "(load goods1 truck1 market1 level0 level1 level0 level1)\n",
            "(drive truck1 market1 depot1)\n",
            "(unload goods1 truck1 depot1 level0 level1 level0 level1)\n"
          ]
        }
      ]
    },
    {
      "cell_type": "markdown",
      "source": [
        "Para obter informações mais detalhadas sobre as heurísticas e algoritmos de busca disponibilizados pelo Pyperplan, é possível consultar a função de ajuda do programa. Para fazer isso, basta executar a célula abaixo:"
      ],
      "metadata": {
        "id": "dLIw1ArQw9hv"
      }
    },
    {
      "cell_type": "code",
      "source": [
        "%%bash\n",
        "pyperplan --help"
      ],
      "metadata": {
        "id": "7wcd6TNixMTP",
        "outputId": "0fbdde09-2e3e-4aa5-da7e-88a7cbecaaae",
        "colab": {
          "base_uri": "https://localhost:8080/"
        }
      },
      "execution_count": 59,
      "outputs": [
        {
          "output_type": "stream",
          "name": "stdout",
          "text": [
            "usage: pyperplan [-h] [-l {debug,info,warning,error}]\n",
            "                 [-H {lmcut,blind,hadd,hff,hmax,hsa,landmark}]\n",
            "                 [-s {astar,wastar,gbf,bfs,ehs,ids,sat}]\n",
            "                 [domain] problem\n",
            "\n",
            "positional arguments:\n",
            "  domain\n",
            "  problem\n",
            "\n",
            "options:\n",
            "  -h, --help            show this help message and exit\n",
            "  -l {debug,info,warning,error}, --loglevel {debug,info,warning,error}\n",
            "  -H {lmcut,blind,hadd,hff,hmax,hsa,landmark}, --heuristic {lmcut,blind,hadd,hff,hmax,hsa,landmark}\n",
            "                        Select a heuristic (default: hff)\n",
            "  -s {astar,wastar,gbf,bfs,ehs,ids,sat}, --search {astar,wastar,gbf,bfs,ehs,ids,sat}\n",
            "                        Select a search algorithm from astar, weighted astar,\n",
            "                        greedy best first, breadth first, enforced\n",
            "                        hillclimbing, iterative deepening, sat solve (default:\n",
            "                        bfs)\n"
          ]
        }
      ]
    },
    {
      "cell_type": "markdown",
      "source": [
        "## Experimentos que devem ser realizados\n",
        "\n",
        "Execute o Pyperplan para **3 instâncias diferentes** de **4 domínios diferentes** da pasta \"Benchmarks\" (excluindo os domínios `airport`, `openstacks`, `parcprinter` e `psr-small`).\n",
        "\n",
        "Para cada instância escolhida você deve executar o Pyperplan duas vezes: uma vez utilizando a heurística **hadd** e outra utilizando a heurística **hmax**. Em ambos os casos você deve utilizar o algoritmo de busca **astar**. Por exemplo, caso você tenha selecionado o domínio \"blocks\" e a instância task07.pddl, a execução do Pyperplan deve seguir o seguinte formato:\n",
        "\n",
        "\n",
        "```\n",
        "pyperplan --heuristic hadd --search astar benchmarks/blocks/domain.pddl benchmarks/blocks/task07.pddl\n",
        "```\n",
        "\n",
        "e\n",
        "\n",
        "```\n",
        "pyperplan --heuristic hmax --search astar benchmarks/blocks/domain.pddl benchmarks/blocks/task07.pddl\n",
        "```\n",
        "\n",
        "Faça uma tabela com os seguintes resultados estatísticos devolvidos pelo próprio Pyperplan:\n",
        "* Predicates parsed\n",
        "* Actions parsed\n",
        "* Objects parsed\n",
        "* Constants parsed\n",
        "* Nodes expanded\n",
        "* Search time:\n",
        "* Plan length:\n",
        "\n",
        "Escreva um texto analisando os resultados. Por exemplo, compare o tempo de execução e tamanho do plano devolvido das execuções com diferentes instâncias e diferentes heurísticas.\n",
        "\n",
        "Os experimentos devem ser executados neste notebook (nas células a seguir). A tabela com os resultados estatísticos bem como o texto analisando os resultados devem ser entregues em um documento PDF separado."
      ],
      "metadata": {
        "id": "uk4VJH1Byc11"
      }
    },
    {
      "cell_type": "markdown",
      "source": [
        "### 1° Domínio\n",
        "\n",
        "<font color='red'> Insira os comandos de execução do Pyperplan para o domínio e instâncias que você selecionou nas células a seguir (cada instância em uma célula). </font>"
      ],
      "metadata": {
        "id": "hJw3tSBZ0w8n"
      }
    },
    {
      "cell_type": "markdown",
      "source": [
        "Pyperplan com A* e hadd:"
      ],
      "metadata": {
        "id": "FMMs-uiGQuiW"
      }
    },
    {
      "cell_type": "code",
      "source": [
        "%%bash\n",
        "pyperplan --heuristic hadd --search astar benchmarks/tpp/domain.pddl benchmarks/tpp/task01.pddl"
      ],
      "metadata": {
        "id": "gs3MmY0K0-zX",
        "outputId": "d92372fa-c072-4141-8ecf-1b8082bd1ee0",
        "colab": {
          "base_uri": "https://localhost:8080/"
        }
      },
      "execution_count": 60,
      "outputs": [
        {
          "output_type": "stream",
          "name": "stdout",
          "text": [
            "2023-08-31 02:26:33,507 INFO     using search: astar_search\n",
            "2023-08-31 02:26:33,507 INFO     using heuristic: hAddHeuristic\n",
            "2023-08-31 02:26:33,507 INFO     Parsing Domain /content/benchmarks/tpp/domain.pddl\n",
            "2023-08-31 02:26:33,509 INFO     Parsing Problem /content/benchmarks/tpp/task01.pddl\n",
            "2023-08-31 02:26:33,509 INFO     7 Predicates parsed\n",
            "2023-08-31 02:26:33,509 INFO     4 Actions parsed\n",
            "2023-08-31 02:26:33,509 INFO     6 Objects parsed\n",
            "2023-08-31 02:26:33,509 INFO     0 Constants parsed\n",
            "2023-08-31 02:26:33,509 INFO     Grounding start: tpp\n",
            "2023-08-31 02:26:33,510 INFO     Relevance analysis removed 1 facts\n",
            "2023-08-31 02:26:33,510 INFO     Grounding end: tpp\n",
            "2023-08-31 02:26:33,510 INFO     10 Variables created\n",
            "2023-08-31 02:26:33,510 INFO     5 Operators created\n",
            "2023-08-31 02:26:33,510 INFO     Search start: tpp\n",
            "2023-08-31 02:26:33,511 INFO     Initial h value: 5.000000\n",
            "2023-08-31 02:26:33,511 INFO     Goal reached. Start extraction of solution.\n",
            "2023-08-31 02:26:33,511 INFO     6 Nodes expanded\n",
            "2023-08-31 02:26:33,511 INFO     Search end: tpp\n",
            "2023-08-31 02:26:33,511 INFO     Search time: 0.0006\n",
            "2023-08-31 02:26:33,511 INFO     Plan length: 5\n",
            "2023-08-31 02:26:33,512 INFO     validate could not be found on the PATH so the plan can not be validated.\n"
          ]
        }
      ]
    },
    {
      "cell_type": "code",
      "source": [
        "%%bash\n",
        "pyperplan --heuristic hadd --search astar benchmarks/tpp/domain.pddl benchmarks/tpp/task02.pddl"
      ],
      "metadata": {
        "id": "JnCMlJND1pg4",
        "outputId": "6f7a3f57-4c38-4339-dbc9-a7d17d0615b3",
        "colab": {
          "base_uri": "https://localhost:8080/"
        }
      },
      "execution_count": 61,
      "outputs": [
        {
          "output_type": "stream",
          "name": "stdout",
          "text": [
            "2023-08-31 02:26:33,576 INFO     using search: astar_search\n",
            "2023-08-31 02:26:33,576 INFO     using heuristic: hAddHeuristic\n",
            "2023-08-31 02:26:33,576 INFO     Parsing Domain /content/benchmarks/tpp/domain.pddl\n",
            "2023-08-31 02:26:33,577 INFO     Parsing Problem /content/benchmarks/tpp/task02.pddl\n",
            "2023-08-31 02:26:33,578 INFO     7 Predicates parsed\n",
            "2023-08-31 02:26:33,578 INFO     4 Actions parsed\n",
            "2023-08-31 02:26:33,578 INFO     7 Objects parsed\n",
            "2023-08-31 02:26:33,578 INFO     0 Constants parsed\n",
            "2023-08-31 02:26:33,578 INFO     Grounding start: tpp\n",
            "2023-08-31 02:26:33,579 INFO     Relevance analysis removed 2 facts\n",
            "2023-08-31 02:26:33,579 INFO     Grounding end: tpp\n",
            "2023-08-31 02:26:33,579 INFO     18 Variables created\n",
            "2023-08-31 02:26:33,579 INFO     8 Operators created\n",
            "2023-08-31 02:26:33,579 INFO     Search start: tpp\n",
            "2023-08-31 02:26:33,579 INFO     Initial h value: 10.000000\n",
            "2023-08-31 02:26:33,580 INFO     Goal reached. Start extraction of solution.\n",
            "2023-08-31 02:26:33,580 INFO     11 Nodes expanded\n",
            "2023-08-31 02:26:33,580 INFO     Search end: tpp\n",
            "2023-08-31 02:26:33,580 INFO     Search time: 0.0012\n",
            "2023-08-31 02:26:33,580 INFO     Plan length: 8\n",
            "2023-08-31 02:26:33,582 INFO     validate could not be found on the PATH so the plan can not be validated.\n"
          ]
        }
      ]
    },
    {
      "cell_type": "code",
      "source": [
        "%%bash\n",
        "pyperplan --heuristic hadd --search astar benchmarks/tpp/domain.pddl benchmarks/tpp/task03.pddl"
      ],
      "metadata": {
        "id": "ELyuGdgE1pVq",
        "outputId": "b68ecbda-3868-4b9a-baf8-a1f450ed4880",
        "colab": {
          "base_uri": "https://localhost:8080/"
        }
      },
      "execution_count": 62,
      "outputs": [
        {
          "output_type": "stream",
          "name": "stdout",
          "text": [
            "2023-08-31 02:26:33,645 INFO     using search: astar_search\n",
            "2023-08-31 02:26:33,645 INFO     using heuristic: hAddHeuristic\n",
            "2023-08-31 02:26:33,646 INFO     Parsing Domain /content/benchmarks/tpp/domain.pddl\n",
            "2023-08-31 02:26:33,647 INFO     Parsing Problem /content/benchmarks/tpp/task03.pddl\n",
            "2023-08-31 02:26:33,648 INFO     7 Predicates parsed\n",
            "2023-08-31 02:26:33,648 INFO     4 Actions parsed\n",
            "2023-08-31 02:26:33,648 INFO     8 Objects parsed\n",
            "2023-08-31 02:26:33,648 INFO     0 Constants parsed\n",
            "2023-08-31 02:26:33,648 INFO     Grounding start: tpp\n",
            "2023-08-31 02:26:33,649 INFO     Relevance analysis removed 3 facts\n",
            "2023-08-31 02:26:33,649 INFO     Grounding end: tpp\n",
            "2023-08-31 02:26:33,649 INFO     26 Variables created\n",
            "2023-08-31 02:26:33,649 INFO     11 Operators created\n",
            "2023-08-31 02:26:33,649 INFO     Search start: tpp\n",
            "2023-08-31 02:26:33,649 INFO     Initial h value: 15.000000\n",
            "2023-08-31 02:26:33,651 INFO     Goal reached. Start extraction of solution.\n",
            "2023-08-31 02:26:33,651 INFO     14 Nodes expanded\n",
            "2023-08-31 02:26:33,651 INFO     Search end: tpp\n",
            "2023-08-31 02:26:33,651 INFO     Search time: 0.0017\n",
            "2023-08-31 02:26:33,651 INFO     Plan length: 13\n",
            "2023-08-31 02:26:33,652 INFO     validate could not be found on the PATH so the plan can not be validated.\n"
          ]
        }
      ]
    },
    {
      "cell_type": "markdown",
      "source": [
        "Pyperplan com A* e hmax:"
      ],
      "metadata": {
        "id": "m4UDs4KmQ9OO"
      }
    },
    {
      "cell_type": "code",
      "source": [
        "%%bash\n",
        "pyperplan --heuristic hmax --search astar benchmarks/tpp/domain.pddl benchmarks/tpp/task01.pddl"
      ],
      "metadata": {
        "id": "-zt4_6I31pHb",
        "outputId": "aff3ef79-2c12-494b-b6ea-4ed3e7df205f",
        "colab": {
          "base_uri": "https://localhost:8080/"
        }
      },
      "execution_count": 63,
      "outputs": [
        {
          "output_type": "stream",
          "name": "stdout",
          "text": [
            "2023-08-31 02:26:33,713 INFO     using search: astar_search\n",
            "2023-08-31 02:26:33,713 INFO     using heuristic: hMaxHeuristic\n",
            "2023-08-31 02:26:33,713 INFO     Parsing Domain /content/benchmarks/tpp/domain.pddl\n",
            "2023-08-31 02:26:33,715 INFO     Parsing Problem /content/benchmarks/tpp/task01.pddl\n",
            "2023-08-31 02:26:33,715 INFO     7 Predicates parsed\n",
            "2023-08-31 02:26:33,715 INFO     4 Actions parsed\n",
            "2023-08-31 02:26:33,715 INFO     6 Objects parsed\n",
            "2023-08-31 02:26:33,715 INFO     0 Constants parsed\n",
            "2023-08-31 02:26:33,715 INFO     Grounding start: tpp\n",
            "2023-08-31 02:26:33,716 INFO     Relevance analysis removed 1 facts\n",
            "2023-08-31 02:26:33,716 INFO     Grounding end: tpp\n",
            "2023-08-31 02:26:33,716 INFO     10 Variables created\n",
            "2023-08-31 02:26:33,716 INFO     5 Operators created\n",
            "2023-08-31 02:26:33,716 INFO     Search start: tpp\n",
            "2023-08-31 02:26:33,716 INFO     Initial h value: 4.000000\n",
            "2023-08-31 02:26:33,717 INFO     Goal reached. Start extraction of solution.\n",
            "2023-08-31 02:26:33,717 INFO     6 Nodes expanded\n",
            "2023-08-31 02:26:33,717 INFO     Search end: tpp\n",
            "2023-08-31 02:26:33,717 INFO     Search time: 0.00039\n",
            "2023-08-31 02:26:33,717 INFO     Plan length: 5\n",
            "2023-08-31 02:26:33,718 INFO     validate could not be found on the PATH so the plan can not be validated.\n"
          ]
        }
      ]
    },
    {
      "cell_type": "code",
      "source": [
        "%%bash\n",
        "pyperplan --heuristic hmax --search astar benchmarks/tpp/domain.pddl benchmarks/tpp/task02.pddl"
      ],
      "metadata": {
        "id": "nmj_6IHU1ozh",
        "outputId": "8086f9d6-bc27-4e24-f58b-5336f8673498",
        "colab": {
          "base_uri": "https://localhost:8080/"
        }
      },
      "execution_count": 64,
      "outputs": [
        {
          "output_type": "stream",
          "name": "stdout",
          "text": [
            "2023-08-31 02:26:33,781 INFO     using search: astar_search\n",
            "2023-08-31 02:26:33,781 INFO     using heuristic: hMaxHeuristic\n",
            "2023-08-31 02:26:33,781 INFO     Parsing Domain /content/benchmarks/tpp/domain.pddl\n",
            "2023-08-31 02:26:33,783 INFO     Parsing Problem /content/benchmarks/tpp/task02.pddl\n",
            "2023-08-31 02:26:33,783 INFO     7 Predicates parsed\n",
            "2023-08-31 02:26:33,783 INFO     4 Actions parsed\n",
            "2023-08-31 02:26:33,783 INFO     7 Objects parsed\n",
            "2023-08-31 02:26:33,783 INFO     0 Constants parsed\n",
            "2023-08-31 02:26:33,783 INFO     Grounding start: tpp\n",
            "2023-08-31 02:26:33,784 INFO     Relevance analysis removed 2 facts\n",
            "2023-08-31 02:26:33,785 INFO     Grounding end: tpp\n",
            "2023-08-31 02:26:33,785 INFO     18 Variables created\n",
            "2023-08-31 02:26:33,785 INFO     8 Operators created\n",
            "2023-08-31 02:26:33,785 INFO     Search start: tpp\n",
            "2023-08-31 02:26:33,785 INFO     Initial h value: 4.000000\n",
            "2023-08-31 02:26:33,786 INFO     Goal reached. Start extraction of solution.\n",
            "2023-08-31 02:26:33,786 INFO     16 Nodes expanded\n",
            "2023-08-31 02:26:33,786 INFO     Search end: tpp\n",
            "2023-08-31 02:26:33,786 INFO     Search time: 0.0013\n",
            "2023-08-31 02:26:33,786 INFO     Plan length: 8\n",
            "2023-08-31 02:26:33,787 INFO     validate could not be found on the PATH so the plan can not be validated.\n"
          ]
        }
      ]
    },
    {
      "cell_type": "code",
      "source": [
        "%%bash\n",
        "pyperplan --heuristic hmax --search astar benchmarks/tpp/domain.pddl benchmarks/tpp/task03.pddl"
      ],
      "metadata": {
        "id": "O9I9uT2wQ7Nn",
        "outputId": "7a9451ec-54e1-4714-92a0-2f049787c306",
        "colab": {
          "base_uri": "https://localhost:8080/"
        }
      },
      "execution_count": 65,
      "outputs": [
        {
          "output_type": "stream",
          "name": "stdout",
          "text": [
            "2023-08-31 02:26:33,859 INFO     using search: astar_search\n",
            "2023-08-31 02:26:33,859 INFO     using heuristic: hMaxHeuristic\n",
            "2023-08-31 02:26:33,859 INFO     Parsing Domain /content/benchmarks/tpp/domain.pddl\n",
            "2023-08-31 02:26:33,860 INFO     Parsing Problem /content/benchmarks/tpp/task03.pddl\n",
            "2023-08-31 02:26:33,861 INFO     7 Predicates parsed\n",
            "2023-08-31 02:26:33,861 INFO     4 Actions parsed\n",
            "2023-08-31 02:26:33,861 INFO     8 Objects parsed\n",
            "2023-08-31 02:26:33,861 INFO     0 Constants parsed\n",
            "2023-08-31 02:26:33,861 INFO     Grounding start: tpp\n",
            "2023-08-31 02:26:33,862 INFO     Relevance analysis removed 3 facts\n",
            "2023-08-31 02:26:33,862 INFO     Grounding end: tpp\n",
            "2023-08-31 02:26:33,862 INFO     26 Variables created\n",
            "2023-08-31 02:26:33,862 INFO     11 Operators created\n",
            "2023-08-31 02:26:33,862 INFO     Search start: tpp\n",
            "2023-08-31 02:26:33,862 INFO     Initial h value: 4.000000\n",
            "2023-08-31 02:26:33,871 INFO     Goal reached. Start extraction of solution.\n",
            "2023-08-31 02:26:33,871 INFO     83 Nodes expanded\n",
            "2023-08-31 02:26:33,871 INFO     Search end: tpp\n",
            "2023-08-31 02:26:33,871 INFO     Search time: 0.009\n",
            "2023-08-31 02:26:33,871 INFO     Plan length: 11\n",
            "2023-08-31 02:26:33,872 INFO     validate could not be found on the PATH so the plan can not be validated.\n"
          ]
        }
      ]
    },
    {
      "cell_type": "markdown",
      "source": [
        "### 2° Domínio\n",
        "\n",
        "<font color='red'> Insira os comandos de execução do Pyperplan para o domínio e instâncias que você selecionou nas células a seguir (cada instância em uma célula). </font>"
      ],
      "metadata": {
        "id": "pxgWtMhY1vMa"
      }
    },
    {
      "cell_type": "markdown",
      "source": [
        "Pyperplan com A* e hadd:"
      ],
      "metadata": {
        "id": "j0fYOtd7ROAP"
      }
    },
    {
      "cell_type": "code",
      "source": [
        "%%bash\n",
        "pyperplan --heuristic hadd --search astar benchmarks/blocks/domain.pddl benchmarks/blocks/task01.pddl"
      ],
      "metadata": {
        "id": "q0i6LEbs1ygs",
        "outputId": "7d4821c0-53b8-402e-c3e4-0196fd3c1ca8",
        "colab": {
          "base_uri": "https://localhost:8080/"
        }
      },
      "execution_count": 66,
      "outputs": [
        {
          "output_type": "stream",
          "name": "stdout",
          "text": [
            "2023-08-31 02:26:33,938 INFO     using search: astar_search\n",
            "2023-08-31 02:26:33,938 INFO     using heuristic: hAddHeuristic\n",
            "2023-08-31 02:26:33,938 INFO     Parsing Domain /content/benchmarks/blocks/domain.pddl\n",
            "2023-08-31 02:26:33,939 INFO     Parsing Problem /content/benchmarks/blocks/task01.pddl\n",
            "2023-08-31 02:26:33,939 INFO     5 Predicates parsed\n",
            "2023-08-31 02:26:33,940 INFO     4 Actions parsed\n",
            "2023-08-31 02:26:33,940 INFO     4 Objects parsed\n",
            "2023-08-31 02:26:33,940 INFO     0 Constants parsed\n",
            "2023-08-31 02:26:33,940 INFO     Grounding start: blocks-4-0\n",
            "2023-08-31 02:26:33,941 INFO     Relevance analysis removed 0 facts\n",
            "2023-08-31 02:26:33,941 INFO     Grounding end: blocks-4-0\n",
            "2023-08-31 02:26:33,941 INFO     29 Variables created\n",
            "2023-08-31 02:26:33,941 INFO     40 Operators created\n",
            "2023-08-31 02:26:33,941 INFO     Search start: blocks-4-0\n",
            "2023-08-31 02:26:33,942 INFO     Initial h value: 6.000000\n",
            "2023-08-31 02:26:33,949 INFO     Goal reached. Start extraction of solution.\n",
            "2023-08-31 02:26:33,949 INFO     18 Nodes expanded\n",
            "2023-08-31 02:26:33,949 INFO     Search end: blocks-4-0\n",
            "2023-08-31 02:26:33,949 INFO     Search time: 0.0077\n",
            "2023-08-31 02:26:33,949 INFO     Plan length: 6\n",
            "2023-08-31 02:26:33,950 INFO     validate could not be found on the PATH so the plan can not be validated.\n"
          ]
        }
      ]
    },
    {
      "cell_type": "code",
      "source": [
        "%%bash\n",
        "pyperplan --heuristic hadd --search astar benchmarks/blocks/domain.pddl benchmarks/blocks/task02.pddl"
      ],
      "metadata": {
        "id": "3zsXWxob1zhz",
        "outputId": "f536a159-b5e1-40f7-f99e-11bdb00b50b1",
        "colab": {
          "base_uri": "https://localhost:8080/"
        }
      },
      "execution_count": 67,
      "outputs": [
        {
          "output_type": "stream",
          "name": "stdout",
          "text": [
            "2023-08-31 02:26:34,024 INFO     using search: astar_search\n",
            "2023-08-31 02:26:34,024 INFO     using heuristic: hAddHeuristic\n",
            "2023-08-31 02:26:34,024 INFO     Parsing Domain /content/benchmarks/blocks/domain.pddl\n",
            "2023-08-31 02:26:34,025 INFO     Parsing Problem /content/benchmarks/blocks/task02.pddl\n",
            "2023-08-31 02:26:34,025 INFO     5 Predicates parsed\n",
            "2023-08-31 02:26:34,025 INFO     4 Actions parsed\n",
            "2023-08-31 02:26:34,025 INFO     4 Objects parsed\n",
            "2023-08-31 02:26:34,026 INFO     0 Constants parsed\n",
            "2023-08-31 02:26:34,026 INFO     Grounding start: blocks-4-1\n",
            "2023-08-31 02:26:34,026 INFO     Relevance analysis removed 0 facts\n",
            "2023-08-31 02:26:34,026 INFO     Grounding end: blocks-4-1\n",
            "2023-08-31 02:26:34,026 INFO     29 Variables created\n",
            "2023-08-31 02:26:34,026 INFO     40 Operators created\n",
            "2023-08-31 02:26:34,026 INFO     Search start: blocks-4-1\n",
            "2023-08-31 02:26:34,027 INFO     Initial h value: 10.000000\n",
            "2023-08-31 02:26:34,030 INFO     Goal reached. Start extraction of solution.\n",
            "2023-08-31 02:26:34,030 INFO     14 Nodes expanded\n",
            "2023-08-31 02:26:34,030 INFO     Search end: blocks-4-1\n",
            "2023-08-31 02:26:34,030 INFO     Search time: 0.0039\n",
            "2023-08-31 02:26:34,030 INFO     Plan length: 10\n",
            "2023-08-31 02:26:34,032 INFO     validate could not be found on the PATH so the plan can not be validated.\n"
          ]
        }
      ]
    },
    {
      "cell_type": "code",
      "source": [
        "%%bash\n",
        "pyperplan --heuristic hadd --search astar benchmarks/blocks/domain.pddl benchmarks/blocks/task03.pddl"
      ],
      "metadata": {
        "id": "gJ7KMz1b1zZK",
        "outputId": "218899d8-be44-440a-af0f-29f0efae88f3",
        "colab": {
          "base_uri": "https://localhost:8080/"
        }
      },
      "execution_count": 68,
      "outputs": [
        {
          "output_type": "stream",
          "name": "stdout",
          "text": [
            "2023-08-31 02:26:34,114 INFO     using search: astar_search\n",
            "2023-08-31 02:26:34,114 INFO     using heuristic: hAddHeuristic\n",
            "2023-08-31 02:26:34,114 INFO     Parsing Domain /content/benchmarks/blocks/domain.pddl\n",
            "2023-08-31 02:26:34,115 INFO     Parsing Problem /content/benchmarks/blocks/task03.pddl\n",
            "2023-08-31 02:26:34,116 INFO     5 Predicates parsed\n",
            "2023-08-31 02:26:34,116 INFO     4 Actions parsed\n",
            "2023-08-31 02:26:34,116 INFO     4 Objects parsed\n",
            "2023-08-31 02:26:34,116 INFO     0 Constants parsed\n",
            "2023-08-31 02:26:34,116 INFO     Grounding start: blocks-4-2\n",
            "2023-08-31 02:26:34,117 INFO     Relevance analysis removed 0 facts\n",
            "2023-08-31 02:26:34,117 INFO     Grounding end: blocks-4-2\n",
            "2023-08-31 02:26:34,117 INFO     29 Variables created\n",
            "2023-08-31 02:26:34,117 INFO     40 Operators created\n",
            "2023-08-31 02:26:34,117 INFO     Search start: blocks-4-2\n",
            "2023-08-31 02:26:34,117 INFO     Initial h value: 8.000000\n",
            "2023-08-31 02:26:34,120 INFO     Goal reached. Start extraction of solution.\n",
            "2023-08-31 02:26:34,120 INFO     9 Nodes expanded\n",
            "2023-08-31 02:26:34,120 INFO     Search end: blocks-4-2\n",
            "2023-08-31 02:26:34,120 INFO     Search time: 0.0031\n",
            "2023-08-31 02:26:34,120 INFO     Plan length: 6\n",
            "2023-08-31 02:26:34,121 INFO     validate could not be found on the PATH so the plan can not be validated.\n"
          ]
        }
      ]
    },
    {
      "cell_type": "markdown",
      "source": [
        "Pyperplan com A* e hmax:"
      ],
      "metadata": {
        "id": "5InpwY9vRZ4D"
      }
    },
    {
      "cell_type": "code",
      "source": [
        "%%bash\n",
        "pyperplan --heuristic hmax --search astar benchmarks/blocks/domain.pddl benchmarks/blocks/task01.pddl"
      ],
      "metadata": {
        "id": "CV1Vu8DT1zQj",
        "outputId": "7a9eb77a-cd55-43b8-c5a1-882fe755dcb3",
        "colab": {
          "base_uri": "https://localhost:8080/"
        }
      },
      "execution_count": 69,
      "outputs": [
        {
          "output_type": "stream",
          "name": "stdout",
          "text": [
            "2023-08-31 02:26:34,184 INFO     using search: astar_search\n",
            "2023-08-31 02:26:34,184 INFO     using heuristic: hMaxHeuristic\n",
            "2023-08-31 02:26:34,184 INFO     Parsing Domain /content/benchmarks/blocks/domain.pddl\n",
            "2023-08-31 02:26:34,185 INFO     Parsing Problem /content/benchmarks/blocks/task01.pddl\n",
            "2023-08-31 02:26:34,185 INFO     5 Predicates parsed\n",
            "2023-08-31 02:26:34,185 INFO     4 Actions parsed\n",
            "2023-08-31 02:26:34,185 INFO     4 Objects parsed\n",
            "2023-08-31 02:26:34,185 INFO     0 Constants parsed\n",
            "2023-08-31 02:26:34,185 INFO     Grounding start: blocks-4-0\n",
            "2023-08-31 02:26:34,186 INFO     Relevance analysis removed 0 facts\n",
            "2023-08-31 02:26:34,186 INFO     Grounding end: blocks-4-0\n",
            "2023-08-31 02:26:34,186 INFO     29 Variables created\n",
            "2023-08-31 02:26:34,186 INFO     40 Operators created\n",
            "2023-08-31 02:26:34,186 INFO     Search start: blocks-4-0\n",
            "2023-08-31 02:26:34,186 INFO     Initial h value: 2.000000\n",
            "2023-08-31 02:26:34,196 INFO     Goal reached. Start extraction of solution.\n",
            "2023-08-31 02:26:34,196 INFO     25 Nodes expanded\n",
            "2023-08-31 02:26:34,196 INFO     Search end: blocks-4-0\n",
            "2023-08-31 02:26:34,196 INFO     Search time: 0.0096\n",
            "2023-08-31 02:26:34,196 INFO     Plan length: 6\n",
            "2023-08-31 02:26:34,198 INFO     validate could not be found on the PATH so the plan can not be validated.\n"
          ]
        }
      ]
    },
    {
      "cell_type": "code",
      "source": [
        "%%bash\n",
        "pyperplan --heuristic hmax --search astar benchmarks/blocks/domain.pddl benchmarks/blocks/task02.pddl"
      ],
      "metadata": {
        "id": "uMBWz2tq1zFW",
        "outputId": "79677da0-a406-4128-bb97-467e06fee5f9",
        "colab": {
          "base_uri": "https://localhost:8080/"
        }
      },
      "execution_count": 70,
      "outputs": [
        {
          "output_type": "stream",
          "name": "stdout",
          "text": [
            "2023-08-31 02:26:34,265 INFO     using search: astar_search\n",
            "2023-08-31 02:26:34,265 INFO     using heuristic: hMaxHeuristic\n",
            "2023-08-31 02:26:34,265 INFO     Parsing Domain /content/benchmarks/blocks/domain.pddl\n",
            "2023-08-31 02:26:34,266 INFO     Parsing Problem /content/benchmarks/blocks/task02.pddl\n",
            "2023-08-31 02:26:34,267 INFO     5 Predicates parsed\n",
            "2023-08-31 02:26:34,267 INFO     4 Actions parsed\n",
            "2023-08-31 02:26:34,267 INFO     4 Objects parsed\n",
            "2023-08-31 02:26:34,267 INFO     0 Constants parsed\n",
            "2023-08-31 02:26:34,267 INFO     Grounding start: blocks-4-1\n",
            "2023-08-31 02:26:34,267 INFO     Relevance analysis removed 0 facts\n",
            "2023-08-31 02:26:34,267 INFO     Grounding end: blocks-4-1\n",
            "2023-08-31 02:26:34,267 INFO     29 Variables created\n",
            "2023-08-31 02:26:34,268 INFO     40 Operators created\n",
            "2023-08-31 02:26:34,268 INFO     Search start: blocks-4-1\n",
            "2023-08-31 02:26:34,268 INFO     Initial h value: 5.000000\n",
            "2023-08-31 02:26:34,275 INFO     Goal reached. Start extraction of solution.\n",
            "2023-08-31 02:26:34,275 INFO     23 Nodes expanded\n",
            "2023-08-31 02:26:34,275 INFO     Search end: blocks-4-1\n",
            "2023-08-31 02:26:34,275 INFO     Search time: 0.0074\n",
            "2023-08-31 02:26:34,275 INFO     Plan length: 10\n",
            "2023-08-31 02:26:34,276 INFO     validate could not be found on the PATH so the plan can not be validated.\n"
          ]
        }
      ]
    },
    {
      "cell_type": "code",
      "source": [
        "%%bash\n",
        "pyperplan --heuristic hmax --search astar benchmarks/blocks/domain.pddl benchmarks/blocks/task03.pddl"
      ],
      "metadata": {
        "id": "F-LdXJh8RbBc",
        "outputId": "3b6d0fdf-d32e-4841-97b0-ccbdfc9a8537",
        "colab": {
          "base_uri": "https://localhost:8080/"
        }
      },
      "execution_count": 71,
      "outputs": [
        {
          "output_type": "stream",
          "name": "stdout",
          "text": [
            "2023-08-31 02:26:34,345 INFO     using search: astar_search\n",
            "2023-08-31 02:26:34,345 INFO     using heuristic: hMaxHeuristic\n",
            "2023-08-31 02:26:34,345 INFO     Parsing Domain /content/benchmarks/blocks/domain.pddl\n",
            "2023-08-31 02:26:34,346 INFO     Parsing Problem /content/benchmarks/blocks/task03.pddl\n",
            "2023-08-31 02:26:34,346 INFO     5 Predicates parsed\n",
            "2023-08-31 02:26:34,346 INFO     4 Actions parsed\n",
            "2023-08-31 02:26:34,346 INFO     4 Objects parsed\n",
            "2023-08-31 02:26:34,346 INFO     0 Constants parsed\n",
            "2023-08-31 02:26:34,346 INFO     Grounding start: blocks-4-2\n",
            "2023-08-31 02:26:34,347 INFO     Relevance analysis removed 0 facts\n",
            "2023-08-31 02:26:34,347 INFO     Grounding end: blocks-4-2\n",
            "2023-08-31 02:26:34,347 INFO     29 Variables created\n",
            "2023-08-31 02:26:34,347 INFO     40 Operators created\n",
            "2023-08-31 02:26:34,347 INFO     Search start: blocks-4-2\n",
            "2023-08-31 02:26:34,347 INFO     Initial h value: 3.000000\n",
            "2023-08-31 02:26:34,354 INFO     Goal reached. Start extraction of solution.\n",
            "2023-08-31 02:26:34,354 INFO     18 Nodes expanded\n",
            "2023-08-31 02:26:34,354 INFO     Search end: blocks-4-2\n",
            "2023-08-31 02:26:34,354 INFO     Search time: 0.0066\n",
            "2023-08-31 02:26:34,354 INFO     Plan length: 6\n",
            "2023-08-31 02:26:34,355 INFO     validate could not be found on the PATH so the plan can not be validated.\n"
          ]
        }
      ]
    },
    {
      "cell_type": "markdown",
      "source": [
        "### 3° Domínio\n",
        "\n",
        "<font color='red'> Insira os comandos de execução do Pyperplan para o domínio e instâncias que você selecionou nas células a seguir (cada instância em uma célula)."
      ],
      "metadata": {
        "id": "qiFoubyT14QT"
      }
    },
    {
      "cell_type": "markdown",
      "source": [
        "Pyperplan com A* e hadd:"
      ],
      "metadata": {
        "id": "T1fqe6APRPvQ"
      }
    },
    {
      "cell_type": "code",
      "source": [
        "%%bash\n",
        "pyperplan --heuristic hadd --search astar benchmarks/movie/domain.pddl benchmarks/movie/task01.pddl"
      ],
      "metadata": {
        "id": "g2RnRmYk17td",
        "outputId": "1c4031e1-62f4-4088-a962-bfc28145765f",
        "colab": {
          "base_uri": "https://localhost:8080/"
        }
      },
      "execution_count": 72,
      "outputs": [
        {
          "output_type": "stream",
          "name": "stdout",
          "text": [
            "2023-08-31 02:26:34,448 INFO     using search: astar_search\n",
            "2023-08-31 02:26:34,448 INFO     using heuristic: hAddHeuristic\n",
            "2023-08-31 02:26:34,449 INFO     Parsing Domain /content/benchmarks/movie/domain.pddl\n",
            "2023-08-31 02:26:34,450 INFO     Parsing Problem /content/benchmarks/movie/task01.pddl\n",
            "2023-08-31 02:26:34,451 INFO     14 Predicates parsed\n",
            "2023-08-31 02:26:34,451 INFO     8 Actions parsed\n",
            "2023-08-31 02:26:34,451 INFO     25 Objects parsed\n",
            "2023-08-31 02:26:34,451 INFO     0 Constants parsed\n",
            "2023-08-31 02:26:34,451 INFO     Grounding start: strips-movie-x-1\n",
            "2023-08-31 02:26:34,462 INFO     Relevance analysis removed 0 facts\n",
            "2023-08-31 02:26:34,462 INFO     Grounding end: strips-movie-x-1\n",
            "2023-08-31 02:26:34,462 INFO     7 Variables created\n",
            "2023-08-31 02:26:34,462 INFO     27 Operators created\n",
            "2023-08-31 02:26:34,462 INFO     Search start: strips-movie-x-1\n",
            "2023-08-31 02:26:34,463 INFO     Initial h value: 7.000000\n",
            "2023-08-31 02:26:34,472 INFO     Goal reached. Start extraction of solution.\n",
            "2023-08-31 02:26:34,472 INFO     8 Nodes expanded\n",
            "2023-08-31 02:26:34,473 INFO     Search end: strips-movie-x-1\n",
            "2023-08-31 02:26:34,473 INFO     Search time: 0.0099\n",
            "2023-08-31 02:26:34,473 INFO     Plan length: 7\n",
            "2023-08-31 02:26:34,474 INFO     validate could not be found on the PATH so the plan can not be validated.\n"
          ]
        }
      ]
    },
    {
      "cell_type": "code",
      "source": [
        "%%bash\n",
        "pyperplan --heuristic hadd --search astar benchmarks/movie/domain.pddl benchmarks/movie/task02.pddl"
      ],
      "metadata": {
        "id": "fALKtPcG17lk",
        "outputId": "e8a50b60-c612-442a-8ba2-a649d52d1e09",
        "colab": {
          "base_uri": "https://localhost:8080/"
        }
      },
      "execution_count": 73,
      "outputs": [
        {
          "output_type": "stream",
          "name": "stdout",
          "text": [
            "2023-08-31 02:26:34,589 INFO     using search: astar_search\n",
            "2023-08-31 02:26:34,589 INFO     using heuristic: hAddHeuristic\n",
            "2023-08-31 02:26:34,589 INFO     Parsing Domain /content/benchmarks/movie/domain.pddl\n",
            "2023-08-31 02:26:34,590 INFO     Parsing Problem /content/benchmarks/movie/task02.pddl\n",
            "2023-08-31 02:26:34,591 INFO     14 Predicates parsed\n",
            "2023-08-31 02:26:34,591 INFO     8 Actions parsed\n",
            "2023-08-31 02:26:34,591 INFO     30 Objects parsed\n",
            "2023-08-31 02:26:34,591 INFO     0 Constants parsed\n",
            "2023-08-31 02:26:34,591 INFO     Grounding start: strips-movie-x-2\n",
            "2023-08-31 02:26:34,604 INFO     Relevance analysis removed 0 facts\n",
            "2023-08-31 02:26:34,604 INFO     Grounding end: strips-movie-x-2\n",
            "2023-08-31 02:26:34,604 INFO     7 Variables created\n",
            "2023-08-31 02:26:34,604 INFO     32 Operators created\n",
            "2023-08-31 02:26:34,605 INFO     Search start: strips-movie-x-2\n",
            "2023-08-31 02:26:34,605 INFO     Initial h value: 7.000000\n",
            "2023-08-31 02:26:34,616 INFO     Goal reached. Start extraction of solution.\n",
            "2023-08-31 02:26:34,617 INFO     8 Nodes expanded\n",
            "2023-08-31 02:26:34,617 INFO     Search end: strips-movie-x-2\n",
            "2023-08-31 02:26:34,617 INFO     Search time: 0.012\n",
            "2023-08-31 02:26:34,617 INFO     Plan length: 7\n",
            "2023-08-31 02:26:34,618 INFO     validate could not be found on the PATH so the plan can not be validated.\n"
          ]
        }
      ]
    },
    {
      "cell_type": "code",
      "source": [
        "%%bash\n",
        "pyperplan --heuristic hadd --search astar benchmarks/movie/domain.pddl benchmarks/movie/task03.pddl"
      ],
      "metadata": {
        "id": "twb4nXCu17X1",
        "outputId": "e010534d-1359-4984-f9e5-ed8ab10cd8a9",
        "colab": {
          "base_uri": "https://localhost:8080/"
        }
      },
      "execution_count": 74,
      "outputs": [
        {
          "output_type": "stream",
          "name": "stdout",
          "text": [
            "2023-08-31 02:26:34,710 INFO     using search: astar_search\n",
            "2023-08-31 02:26:34,710 INFO     using heuristic: hAddHeuristic\n",
            "2023-08-31 02:26:34,710 INFO     Parsing Domain /content/benchmarks/movie/domain.pddl\n",
            "2023-08-31 02:26:34,711 INFO     Parsing Problem /content/benchmarks/movie/task03.pddl\n",
            "2023-08-31 02:26:34,712 INFO     14 Predicates parsed\n",
            "2023-08-31 02:26:34,712 INFO     8 Actions parsed\n",
            "2023-08-31 02:26:34,712 INFO     35 Objects parsed\n",
            "2023-08-31 02:26:34,712 INFO     0 Constants parsed\n",
            "2023-08-31 02:26:34,712 INFO     Grounding start: strips-movie-x-3\n",
            "2023-08-31 02:26:34,720 INFO     Relevance analysis removed 0 facts\n",
            "2023-08-31 02:26:34,721 INFO     Grounding end: strips-movie-x-3\n",
            "2023-08-31 02:26:34,721 INFO     7 Variables created\n",
            "2023-08-31 02:26:34,721 INFO     37 Operators created\n",
            "2023-08-31 02:26:34,721 INFO     Search start: strips-movie-x-3\n",
            "2023-08-31 02:26:34,721 INFO     Initial h value: 7.000000\n",
            "2023-08-31 02:26:34,729 INFO     Goal reached. Start extraction of solution.\n",
            "2023-08-31 02:26:34,729 INFO     8 Nodes expanded\n",
            "2023-08-31 02:26:34,729 INFO     Search end: strips-movie-x-3\n",
            "2023-08-31 02:26:34,729 INFO     Search time: 0.0086\n",
            "2023-08-31 02:26:34,729 INFO     Plan length: 7\n",
            "2023-08-31 02:26:34,730 INFO     validate could not be found on the PATH so the plan can not be validated.\n"
          ]
        }
      ]
    },
    {
      "cell_type": "markdown",
      "source": [
        "Pyperplan com A* e hmax:"
      ],
      "metadata": {
        "id": "IU3PSgXNRc1e"
      }
    },
    {
      "cell_type": "code",
      "source": [
        "%%bash\n",
        "pyperplan --heuristic hmax --search astar benchmarks/movie/domain.pddl benchmarks/movie/task01.pddl"
      ],
      "metadata": {
        "id": "4sZW9Vm817FH",
        "outputId": "ce9dc83f-4080-4d7f-e851-200fbccc461e",
        "colab": {
          "base_uri": "https://localhost:8080/"
        }
      },
      "execution_count": 75,
      "outputs": [
        {
          "output_type": "stream",
          "name": "stdout",
          "text": [
            "2023-08-31 02:26:34,796 INFO     using search: astar_search\n",
            "2023-08-31 02:26:34,796 INFO     using heuristic: hMaxHeuristic\n",
            "2023-08-31 02:26:34,796 INFO     Parsing Domain /content/benchmarks/movie/domain.pddl\n",
            "2023-08-31 02:26:34,797 INFO     Parsing Problem /content/benchmarks/movie/task01.pddl\n",
            "2023-08-31 02:26:34,798 INFO     14 Predicates parsed\n",
            "2023-08-31 02:26:34,798 INFO     8 Actions parsed\n",
            "2023-08-31 02:26:34,798 INFO     25 Objects parsed\n",
            "2023-08-31 02:26:34,798 INFO     0 Constants parsed\n",
            "2023-08-31 02:26:34,798 INFO     Grounding start: strips-movie-x-1\n",
            "2023-08-31 02:26:34,807 INFO     Relevance analysis removed 0 facts\n",
            "2023-08-31 02:26:34,807 INFO     Grounding end: strips-movie-x-1\n",
            "2023-08-31 02:26:34,807 INFO     7 Variables created\n",
            "2023-08-31 02:26:34,808 INFO     27 Operators created\n",
            "2023-08-31 02:26:34,808 INFO     Search start: strips-movie-x-1\n",
            "2023-08-31 02:26:34,808 INFO     Initial h value: 1.000000\n",
            "2023-08-31 02:26:34,920 INFO     Goal reached. Start extraction of solution.\n",
            "2023-08-31 02:26:34,920 INFO     122 Nodes expanded\n",
            "2023-08-31 02:26:34,920 INFO     Search end: strips-movie-x-1\n",
            "2023-08-31 02:26:34,920 INFO     Search time: 0.11\n",
            "2023-08-31 02:26:34,920 INFO     Plan length: 7\n",
            "2023-08-31 02:26:34,921 INFO     validate could not be found on the PATH so the plan can not be validated.\n"
          ]
        }
      ]
    },
    {
      "cell_type": "code",
      "source": [
        "%%bash\n",
        "pyperplan --heuristic hmax --search astar benchmarks/movie/domain.pddl benchmarks/movie/task02.pddl"
      ],
      "metadata": {
        "id": "Bh5EjxKDRdUL",
        "outputId": "9b93985e-0c75-4e9f-a346-f8d46a34a41e",
        "colab": {
          "base_uri": "https://localhost:8080/"
        }
      },
      "execution_count": 76,
      "outputs": [
        {
          "output_type": "stream",
          "name": "stdout",
          "text": [
            "2023-08-31 02:26:34,986 INFO     using search: astar_search\n",
            "2023-08-31 02:26:34,986 INFO     using heuristic: hMaxHeuristic\n",
            "2023-08-31 02:26:34,986 INFO     Parsing Domain /content/benchmarks/movie/domain.pddl\n",
            "2023-08-31 02:26:34,987 INFO     Parsing Problem /content/benchmarks/movie/task02.pddl\n",
            "2023-08-31 02:26:34,987 INFO     14 Predicates parsed\n",
            "2023-08-31 02:26:34,987 INFO     8 Actions parsed\n",
            "2023-08-31 02:26:34,987 INFO     30 Objects parsed\n",
            "2023-08-31 02:26:34,987 INFO     0 Constants parsed\n",
            "2023-08-31 02:26:34,988 INFO     Grounding start: strips-movie-x-2\n",
            "2023-08-31 02:26:34,995 INFO     Relevance analysis removed 0 facts\n",
            "2023-08-31 02:26:34,995 INFO     Grounding end: strips-movie-x-2\n",
            "2023-08-31 02:26:34,996 INFO     7 Variables created\n",
            "2023-08-31 02:26:34,996 INFO     32 Operators created\n",
            "2023-08-31 02:26:34,996 INFO     Search start: strips-movie-x-2\n",
            "2023-08-31 02:26:34,996 INFO     Initial h value: 1.000000\n",
            "2023-08-31 02:26:35,106 INFO     Goal reached. Start extraction of solution.\n",
            "2023-08-31 02:26:35,106 INFO     122 Nodes expanded\n",
            "2023-08-31 02:26:35,106 INFO     Search end: strips-movie-x-2\n",
            "2023-08-31 02:26:35,107 INFO     Search time: 0.11\n",
            "2023-08-31 02:26:35,107 INFO     Plan length: 7\n",
            "2023-08-31 02:26:35,107 INFO     validate could not be found on the PATH so the plan can not be validated.\n"
          ]
        }
      ]
    },
    {
      "cell_type": "code",
      "source": [
        "%%bash\n",
        "pyperplan --heuristic hmax --search astar benchmarks/movie/domain.pddl benchmarks/movie/task03.pddl"
      ],
      "metadata": {
        "id": "W4HolqIp16hc",
        "outputId": "37764416-d408-4b2a-cc7a-2eccf558cd76",
        "colab": {
          "base_uri": "https://localhost:8080/"
        }
      },
      "execution_count": 77,
      "outputs": [
        {
          "output_type": "stream",
          "name": "stdout",
          "text": [
            "2023-08-31 02:26:35,170 INFO     using search: astar_search\n",
            "2023-08-31 02:26:35,170 INFO     using heuristic: hMaxHeuristic\n",
            "2023-08-31 02:26:35,170 INFO     Parsing Domain /content/benchmarks/movie/domain.pddl\n",
            "2023-08-31 02:26:35,171 INFO     Parsing Problem /content/benchmarks/movie/task03.pddl\n",
            "2023-08-31 02:26:35,171 INFO     14 Predicates parsed\n",
            "2023-08-31 02:26:35,171 INFO     8 Actions parsed\n",
            "2023-08-31 02:26:35,171 INFO     35 Objects parsed\n",
            "2023-08-31 02:26:35,171 INFO     0 Constants parsed\n",
            "2023-08-31 02:26:35,171 INFO     Grounding start: strips-movie-x-3\n",
            "2023-08-31 02:26:35,180 INFO     Relevance analysis removed 0 facts\n",
            "2023-08-31 02:26:35,180 INFO     Grounding end: strips-movie-x-3\n",
            "2023-08-31 02:26:35,181 INFO     7 Variables created\n",
            "2023-08-31 02:26:35,181 INFO     37 Operators created\n",
            "2023-08-31 02:26:35,181 INFO     Search start: strips-movie-x-3\n",
            "2023-08-31 02:26:35,181 INFO     Initial h value: 1.000000\n",
            "2023-08-31 02:26:35,390 INFO     Goal reached. Start extraction of solution.\n",
            "2023-08-31 02:26:35,390 INFO     122 Nodes expanded\n",
            "2023-08-31 02:26:35,391 INFO     Search end: strips-movie-x-3\n",
            "2023-08-31 02:26:35,391 INFO     Search time: 0.2\n",
            "2023-08-31 02:26:35,391 INFO     Plan length: 7\n",
            "2023-08-31 02:26:35,392 INFO     validate could not be found on the PATH so the plan can not be validated.\n"
          ]
        }
      ]
    },
    {
      "cell_type": "markdown",
      "source": [
        "### 4° Domínio\n",
        "\n",
        "<font color='red'> Insira os comandos de execução do Pyperplan para o domínio e instâncias que você selecionou nas células a seguir (cada instância em uma célula)."
      ],
      "metadata": {
        "id": "jcc930M618LQ"
      }
    },
    {
      "cell_type": "markdown",
      "source": [
        "Pyperplan com A* e hadd:"
      ],
      "metadata": {
        "id": "6N3r6tKCRSxz"
      }
    },
    {
      "cell_type": "code",
      "source": [
        "%%bash\n",
        "pyperplan --heuristic hadd --search astar benchmarks/rovers/domain.pddl benchmarks/rovers/task01.pddl"
      ],
      "metadata": {
        "id": "PvidApo31-7o",
        "outputId": "aea20174-8a81-4d6b-e44c-774f50093d65",
        "colab": {
          "base_uri": "https://localhost:8080/"
        }
      },
      "execution_count": 78,
      "outputs": [
        {
          "output_type": "stream",
          "name": "stdout",
          "text": [
            "2023-08-31 02:26:35,496 INFO     using search: astar_search\n",
            "2023-08-31 02:26:35,497 INFO     using heuristic: hAddHeuristic\n",
            "2023-08-31 02:26:35,497 INFO     Parsing Domain /content/benchmarks/rovers/domain.pddl\n",
            "2023-08-31 02:26:35,501 INFO     Parsing Problem /content/benchmarks/rovers/task01.pddl\n",
            "2023-08-31 02:26:35,502 INFO     25 Predicates parsed\n",
            "2023-08-31 02:26:35,502 INFO     9 Actions parsed\n",
            "2023-08-31 02:26:35,502 INFO     13 Objects parsed\n",
            "2023-08-31 02:26:35,502 INFO     0 Constants parsed\n",
            "2023-08-31 02:26:35,502 INFO     Grounding start: roverprob1234\n",
            "2023-08-31 02:26:35,513 INFO     Relevance analysis removed 20 facts\n",
            "2023-08-31 02:26:35,513 INFO     Grounding end: roverprob1234\n",
            "2023-08-31 02:26:35,513 INFO     45 Variables created\n",
            "2023-08-31 02:26:35,513 INFO     44 Operators created\n",
            "2023-08-31 02:26:35,513 INFO     Search start: roverprob1234\n",
            "2023-08-31 02:26:35,513 INFO     Initial h value: 9.000000\n",
            "2023-08-31 02:26:35,523 INFO     Goal reached. Start extraction of solution.\n",
            "2023-08-31 02:26:35,523 INFO     12 Nodes expanded\n",
            "2023-08-31 02:26:35,523 INFO     Search end: roverprob1234\n",
            "2023-08-31 02:26:35,523 INFO     Search time: 0.01\n",
            "2023-08-31 02:26:35,524 INFO     Plan length: 10\n",
            "2023-08-31 02:26:35,525 INFO     validate could not be found on the PATH so the plan can not be validated.\n"
          ]
        }
      ]
    },
    {
      "cell_type": "code",
      "source": [
        "%%bash\n",
        "pyperplan --heuristic hadd --search astar benchmarks/rovers/domain.pddl benchmarks/rovers/task02.pddl"
      ],
      "metadata": {
        "id": "3X98S0yb1-z-",
        "outputId": "996bd9e0-705b-491a-f179-0599a1d50a8d",
        "colab": {
          "base_uri": "https://localhost:8080/"
        }
      },
      "execution_count": 79,
      "outputs": [
        {
          "output_type": "stream",
          "name": "stdout",
          "text": [
            "2023-08-31 02:26:35,610 INFO     using search: astar_search\n",
            "2023-08-31 02:26:35,610 INFO     using heuristic: hAddHeuristic\n",
            "2023-08-31 02:26:35,610 INFO     Parsing Domain /content/benchmarks/rovers/domain.pddl\n",
            "2023-08-31 02:26:35,613 INFO     Parsing Problem /content/benchmarks/rovers/task02.pddl\n",
            "2023-08-31 02:26:35,613 INFO     25 Predicates parsed\n",
            "2023-08-31 02:26:35,613 INFO     9 Actions parsed\n",
            "2023-08-31 02:26:35,613 INFO     14 Objects parsed\n",
            "2023-08-31 02:26:35,613 INFO     0 Constants parsed\n",
            "2023-08-31 02:26:35,614 INFO     Grounding start: roverprob4213\n",
            "2023-08-31 02:26:35,619 INFO     Relevance analysis removed 23 facts\n",
            "2023-08-31 02:26:35,620 INFO     Grounding end: roverprob4213\n",
            "2023-08-31 02:26:35,620 INFO     46 Variables created\n",
            "2023-08-31 02:26:35,620 INFO     37 Operators created\n",
            "2023-08-31 02:26:35,620 INFO     Search start: roverprob4213\n",
            "2023-08-31 02:26:35,620 INFO     Initial h value: 7.000000\n",
            "2023-08-31 02:26:35,624 INFO     Goal reached. Start extraction of solution.\n",
            "2023-08-31 02:26:35,624 INFO     9 Nodes expanded\n",
            "2023-08-31 02:26:35,624 INFO     Search end: roverprob4213\n",
            "2023-08-31 02:26:35,624 INFO     Search time: 0.0045\n",
            "2023-08-31 02:26:35,624 INFO     Plan length: 8\n",
            "2023-08-31 02:26:35,625 INFO     validate could not be found on the PATH so the plan can not be validated.\n"
          ]
        }
      ]
    },
    {
      "cell_type": "code",
      "source": [
        "%%bash\n",
        "pyperplan --heuristic hadd --search astar benchmarks/rovers/domain.pddl benchmarks/rovers/task03.pddl"
      ],
      "metadata": {
        "id": "Zf8fiCZb1-rZ",
        "outputId": "8b40abe9-d3f6-4301-ca09-32b8068552fe",
        "colab": {
          "base_uri": "https://localhost:8080/"
        }
      },
      "execution_count": 80,
      "outputs": [
        {
          "output_type": "stream",
          "name": "stdout",
          "text": [
            "2023-08-31 02:26:35,696 INFO     using search: astar_search\n",
            "2023-08-31 02:26:35,696 INFO     using heuristic: hAddHeuristic\n",
            "2023-08-31 02:26:35,696 INFO     Parsing Domain /content/benchmarks/rovers/domain.pddl\n",
            "2023-08-31 02:26:35,699 INFO     Parsing Problem /content/benchmarks/rovers/task03.pddl\n",
            "2023-08-31 02:26:35,699 INFO     25 Predicates parsed\n",
            "2023-08-31 02:26:35,699 INFO     9 Actions parsed\n",
            "2023-08-31 02:26:35,699 INFO     16 Objects parsed\n",
            "2023-08-31 02:26:35,700 INFO     0 Constants parsed\n",
            "2023-08-31 02:26:35,700 INFO     Grounding start: roverprob3726\n",
            "2023-08-31 02:26:35,708 INFO     Relevance analysis removed 31 facts\n",
            "2023-08-31 02:26:35,708 INFO     Grounding end: roverprob3726\n",
            "2023-08-31 02:26:35,708 INFO     67 Variables created\n",
            "2023-08-31 02:26:35,708 INFO     60 Operators created\n",
            "2023-08-31 02:26:35,709 INFO     Search start: roverprob3726\n",
            "2023-08-31 02:26:35,709 INFO     Initial h value: 11.000000\n",
            "2023-08-31 02:26:35,737 INFO     Goal reached. Start extraction of solution.\n",
            "2023-08-31 02:26:35,737 INFO     34 Nodes expanded\n",
            "2023-08-31 02:26:35,737 INFO     Search end: roverprob3726\n",
            "2023-08-31 02:26:35,737 INFO     Search time: 0.028\n",
            "2023-08-31 02:26:35,737 INFO     Plan length: 13\n",
            "2023-08-31 02:26:35,738 INFO     validate could not be found on the PATH so the plan can not be validated.\n"
          ]
        }
      ]
    },
    {
      "cell_type": "markdown",
      "source": [
        "Pyperplan com A* e hmax:"
      ],
      "metadata": {
        "id": "WQ2zNdLZRe_h"
      }
    },
    {
      "cell_type": "code",
      "source": [
        "%%bash\n",
        "pyperplan --heuristic hmax --search astar benchmarks/rovers/domain.pddl benchmarks/rovers/task01.pddl"
      ],
      "metadata": {
        "id": "94gdftoK1-iX",
        "outputId": "518125c1-1340-4154-bec8-500c6df86869",
        "colab": {
          "base_uri": "https://localhost:8080/"
        }
      },
      "execution_count": 81,
      "outputs": [
        {
          "output_type": "stream",
          "name": "stdout",
          "text": [
            "2023-08-31 02:26:35,809 INFO     using search: astar_search\n",
            "2023-08-31 02:26:35,809 INFO     using heuristic: hMaxHeuristic\n",
            "2023-08-31 02:26:35,809 INFO     Parsing Domain /content/benchmarks/rovers/domain.pddl\n",
            "2023-08-31 02:26:35,811 INFO     Parsing Problem /content/benchmarks/rovers/task01.pddl\n",
            "2023-08-31 02:26:35,812 INFO     25 Predicates parsed\n",
            "2023-08-31 02:26:35,812 INFO     9 Actions parsed\n",
            "2023-08-31 02:26:35,812 INFO     13 Objects parsed\n",
            "2023-08-31 02:26:35,812 INFO     0 Constants parsed\n",
            "2023-08-31 02:26:35,812 INFO     Grounding start: roverprob1234\n",
            "2023-08-31 02:26:35,818 INFO     Relevance analysis removed 20 facts\n",
            "2023-08-31 02:26:35,818 INFO     Grounding end: roverprob1234\n",
            "2023-08-31 02:26:35,818 INFO     45 Variables created\n",
            "2023-08-31 02:26:35,818 INFO     44 Operators created\n",
            "2023-08-31 02:26:35,818 INFO     Search start: roverprob1234\n",
            "2023-08-31 02:26:35,819 INFO     Initial h value: 4.000000\n",
            "2023-08-31 02:26:35,958 INFO     Goal reached. Start extraction of solution.\n",
            "2023-08-31 02:26:35,958 INFO     287 Nodes expanded\n",
            "2023-08-31 02:26:35,958 INFO     Search end: roverprob1234\n",
            "2023-08-31 02:26:35,958 INFO     Search time: 0.14\n",
            "2023-08-31 02:26:35,958 INFO     Plan length: 10\n",
            "2023-08-31 02:26:35,959 INFO     validate could not be found on the PATH so the plan can not be validated.\n"
          ]
        }
      ]
    },
    {
      "cell_type": "code",
      "source": [
        "%%bash\n",
        "pyperplan --heuristic hmax --search astar benchmarks/rovers/domain.pddl benchmarks/rovers/task02.pddl"
      ],
      "metadata": {
        "id": "czuOTR1A1-CE",
        "outputId": "d7d6a917-f0ab-4c18-b78f-e8ed04c98447",
        "colab": {
          "base_uri": "https://localhost:8080/"
        }
      },
      "execution_count": 82,
      "outputs": [
        {
          "output_type": "stream",
          "name": "stdout",
          "text": [
            "2023-08-31 02:26:36,031 INFO     using search: astar_search\n",
            "2023-08-31 02:26:36,031 INFO     using heuristic: hMaxHeuristic\n",
            "2023-08-31 02:26:36,031 INFO     Parsing Domain /content/benchmarks/rovers/domain.pddl\n",
            "2023-08-31 02:26:36,035 INFO     Parsing Problem /content/benchmarks/rovers/task02.pddl\n",
            "2023-08-31 02:26:36,036 INFO     25 Predicates parsed\n",
            "2023-08-31 02:26:36,036 INFO     9 Actions parsed\n",
            "2023-08-31 02:26:36,036 INFO     14 Objects parsed\n",
            "2023-08-31 02:26:36,036 INFO     0 Constants parsed\n",
            "2023-08-31 02:26:36,036 INFO     Grounding start: roverprob4213\n",
            "2023-08-31 02:26:36,045 INFO     Relevance analysis removed 23 facts\n",
            "2023-08-31 02:26:36,045 INFO     Grounding end: roverprob4213\n",
            "2023-08-31 02:26:36,045 INFO     46 Variables created\n",
            "2023-08-31 02:26:36,045 INFO     37 Operators created\n",
            "2023-08-31 02:26:36,045 INFO     Search start: roverprob4213\n",
            "2023-08-31 02:26:36,045 INFO     Initial h value: 3.000000\n",
            "2023-08-31 02:26:36,115 INFO     Goal reached. Start extraction of solution.\n",
            "2023-08-31 02:26:36,115 INFO     132 Nodes expanded\n",
            "2023-08-31 02:26:36,115 INFO     Search end: roverprob4213\n",
            "2023-08-31 02:26:36,115 INFO     Search time: 0.069\n",
            "2023-08-31 02:26:36,115 INFO     Plan length: 8\n",
            "2023-08-31 02:26:36,116 INFO     validate could not be found on the PATH so the plan can not be validated.\n"
          ]
        }
      ]
    },
    {
      "cell_type": "code",
      "source": [
        "%%bash\n",
        "pyperplan --heuristic hmax --search astar benchmarks/rovers/domain.pddl benchmarks/rovers/task03.pddl"
      ],
      "metadata": {
        "id": "oRqUr5BkRgZh",
        "outputId": "6e14ac9a-6f87-456a-cfc4-b9c6a7ac7308",
        "colab": {
          "base_uri": "https://localhost:8080/"
        }
      },
      "execution_count": 83,
      "outputs": [
        {
          "output_type": "stream",
          "name": "stdout",
          "text": [
            "2023-08-31 02:26:36,211 INFO     using search: astar_search\n",
            "2023-08-31 02:26:36,211 INFO     using heuristic: hMaxHeuristic\n",
            "2023-08-31 02:26:36,211 INFO     Parsing Domain /content/benchmarks/rovers/domain.pddl\n",
            "2023-08-31 02:26:36,215 INFO     Parsing Problem /content/benchmarks/rovers/task03.pddl\n",
            "2023-08-31 02:26:36,217 INFO     25 Predicates parsed\n",
            "2023-08-31 02:26:36,217 INFO     9 Actions parsed\n",
            "2023-08-31 02:26:36,217 INFO     16 Objects parsed\n",
            "2023-08-31 02:26:36,217 INFO     0 Constants parsed\n",
            "2023-08-31 02:26:36,217 INFO     Grounding start: roverprob3726\n",
            "2023-08-31 02:26:36,229 INFO     Relevance analysis removed 31 facts\n",
            "2023-08-31 02:26:36,229 INFO     Grounding end: roverprob3726\n",
            "2023-08-31 02:26:36,229 INFO     67 Variables created\n",
            "2023-08-31 02:26:36,229 INFO     60 Operators created\n",
            "2023-08-31 02:26:36,229 INFO     Search start: roverprob3726\n",
            "2023-08-31 02:26:36,230 INFO     Initial h value: 4.000000\n",
            "2023-08-31 02:26:36,798 INFO     Goal reached. Start extraction of solution.\n",
            "2023-08-31 02:26:36,798 INFO     763 Nodes expanded\n",
            "2023-08-31 02:26:36,799 INFO     Search end: roverprob3726\n",
            "2023-08-31 02:26:36,799 INFO     Search time: 0.56\n",
            "2023-08-31 02:26:36,799 INFO     Plan length: 11\n",
            "2023-08-31 02:26:36,800 INFO     validate could not be found on the PATH so the plan can not be validated.\n"
          ]
        }
      ]
    },
    {
      "cell_type": "markdown",
      "source": [
        "# Instruções de envio\n",
        "\n",
        "Você deve submeter no moodle dois arquivos:\n",
        "\n",
        "\n",
        "* Um cópia do arquivo **EP1-Pyperplan.ipynb** com todas as células previamente preenchidas (quando necessário) e executadas (caso você já tenha o pyperplan instalado, não é necessário executar a primeira célula). Os outputs devem estar visíveis e legíveis.\n",
        "*  Um arquivo com extensão **.pdf** contendo uma tabela com os resultados estatísticos devolvidos pelo Pyperplan e um texto analisando os resultados.\n",
        "\n",
        "Importante: Não esqueça de colocar seu nome e NUSP nos arquivos que serão entregues.\n",
        "\n"
      ],
      "metadata": {
        "id": "-ZOu9sC_4Y_G"
      }
    }
  ]
}